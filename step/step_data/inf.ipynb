{
 "cells": [
  {
   "cell_type": "code",
   "execution_count": 2,
   "metadata": {},
   "outputs": [],
   "source": [
    "import sys\n",
    "sys.path.append('../..')"
   ]
  },
  {
   "cell_type": "code",
   "execution_count": 7,
   "metadata": {},
   "outputs": [],
   "source": [
    "from basicts.utils import load_pkl\n",
    "from torch.utils.data import Dataset\n",
    "import torch\n",
    "import os"
   ]
  },
  {
   "cell_type": "code",
   "execution_count": 57,
   "metadata": {},
   "outputs": [],
   "source": [
    "class ForecastingDataset(Dataset):\n",
    "\n",
    "    def __init__(self, data_file_path: str, index_file_path: str, mode: str, seq_len:int) -> None:\n",
    "        \"\"\"Init the dataset in the forecasting stage.\n",
    "\n",
    "        Args:\n",
    "            data_file_path (str): data file path.\n",
    "            index_file_path (str): index file path.\n",
    "            mode (str): train, valid, or test.\n",
    "            seq_len (int): the length of long term historical data.\n",
    "        \"\"\"\n",
    "\n",
    "        super().__init__()\n",
    "        assert mode in [\"train\", \"valid\", \"test\"], \"error mode\"\n",
    "        self._check_if_file_exists(data_file_path, index_file_path)\n",
    "        # read raw data (normalized)\n",
    "        data = load_pkl(data_file_path)\n",
    "        processed_data = data[\"processed_data\"]\n",
    "        self.data = torch.from_numpy(processed_data).float()\n",
    "        # read index\n",
    "        self.index = load_pkl(index_file_path)[mode]\n",
    "        # length of long term historical data\n",
    "        self.seq_len = seq_len\n",
    "        # mask\n",
    "        self.mask = torch.zeros(self.seq_len, self.data.shape[1], self.data.shape[2])\n",
    "\n",
    "    def _check_if_file_exists(self, data_file_path: str, index_file_path: str):\n",
    "        \"\"\"Check if data file and index file exist.\n",
    "\n",
    "        Args:\n",
    "            data_file_path (str): data file path\n",
    "            index_file_path (str): index file path\n",
    "\n",
    "        Raises:\n",
    "            FileNotFoundError: no data file\n",
    "            FileNotFoundError: no index file\n",
    "        \"\"\"\n",
    "\n",
    "        if not os.path.isfile(data_file_path):\n",
    "            raise FileNotFoundError(\"BasicTS can not find data file {0}\".format(data_file_path))\n",
    "        if not os.path.isfile(index_file_path):\n",
    "            raise FileNotFoundError(\"BasicTS can not find index file {0}\".format(index_file_path))\n",
    "\n",
    "    def __getitem__(self, index: int|list) -> tuple:\n",
    "        \"\"\"Get a sample.\n",
    "\n",
    "        Args:\n",
    "            index (int): the iteration index (not the self.index)\n",
    "\n",
    "        Returns:\n",
    "            tuple: (future_data, history_data), where the shape of each is L x N x C.\n",
    "        \"\"\"\n",
    "        if isinstance(index, int):\n",
    "            idx = list(self.index[index])\n",
    "        else:\n",
    "            idx = index\n",
    "        history_data = self.data[idx[0]:idx[1]]     # 12\n",
    "        future_data = self.data[idx[1]:idx[2]]      # 12\n",
    "        if idx[1] - self.seq_len < 0:\n",
    "            long_history_data = self.mask\n",
    "        else:\n",
    "            long_history_data = self.data[idx[1] - self.seq_len:idx[1]]     # 11\n",
    "\n",
    "        return future_data, history_data, long_history_data\n",
    "\n",
    "    def __len__(self):\n",
    "        \"\"\"Dataset length\n",
    "\n",
    "        Returns:\n",
    "            int: dataset length\n",
    "        \"\"\"\n",
    "\n",
    "        return len(self.index)\n"
   ]
  },
  {
   "cell_type": "code",
   "execution_count": 58,
   "metadata": {},
   "outputs": [],
   "source": [
    "dd = ForecastingDataset(\n",
    "    \"/home/seyed/PycharmProjects/step/STEP/datasets/METR-LA/data_in12_out12.pkl\",\n",
    "    \"/home/seyed/PycharmProjects/step/STEP/datasets/METR-LA/index_in12_out12.pkl\",\n",
    "    \"test\",\n",
    "    288 * 7\n",
    ")"
   ]
  },
  {
   "cell_type": "code",
   "execution_count": 73,
   "metadata": {},
   "outputs": [],
   "source": [
    "from collections import defaultdict"
   ]
  },
  {
   "cell_type": "code",
   "execution_count": 86,
   "metadata": {},
   "outputs": [],
   "source": [
    "nested_dict = defaultdict(lambda: defaultdict(list))"
   ]
  },
  {
   "cell_type": "code",
   "execution_count": 88,
   "metadata": {},
   "outputs": [],
   "source": [
    "nested_dict[\"rrr\"][\"10\"].append(2)"
   ]
  },
  {
   "cell_type": "code",
   "execution_count": 89,
   "metadata": {},
   "outputs": [
    {
     "data": {
      "text/plain": [
       "[2]"
      ]
     },
     "execution_count": 89,
     "metadata": {},
     "output_type": "execute_result"
    }
   ],
   "source": [
    "nested_dict[\"rrr\"][\"10\"]"
   ]
  },
  {
   "cell_type": "code",
   "execution_count": 63,
   "metadata": {},
   "outputs": [],
   "source": [
    "import datetime\n",
    "def find_indices(date: datetime.datetime):\n",
    "    df = pd.read_hdf(\"/home/seyed/PycharmProjects/step/STEP/datasets/raw_data/METR-LA/METR-LA.h5\")\n",
    "    dates = df.index.to_pydatetime().tolist()\n",
    "    mapping = {date: index for index, date in enumerate(dates)}\n",
    "    idx = mapping[date]\n",
    "    indices = [idx - 12, idx, idx + 12]\n",
    "    return indices"
   ]
  },
  {
   "cell_type": "code",
   "execution_count": 64,
   "metadata": {},
   "outputs": [],
   "source": [
    "data = dd[find_indices(datetime.datetime(2012, 4, 1, 0, 35))]"
   ]
  },
  {
   "cell_type": "code",
   "execution_count": 65,
   "metadata": {},
   "outputs": [
    {
     "data": {
      "text/plain": [
       "(torch.Size([12, 207, 3]),\n",
       " torch.Size([12, 207, 3]),\n",
       " torch.Size([2016, 207, 3]))"
      ]
     },
     "execution_count": 65,
     "metadata": {},
     "output_type": "execute_result"
    }
   ],
   "source": [
    "data[0], data[1].shape, data[2].shape"
   ]
  },
  {
   "cell_type": "code",
   "execution_count": 66,
   "metadata": {},
   "outputs": [],
   "source": [
    "# DataLoader = torch.utils.data.DataLoader(dd, batch_size=1, shuffle=False, num_workers=0)"
   ]
  },
  {
   "cell_type": "code",
   "execution_count": 68,
   "metadata": {},
   "outputs": [
    {
     "ename": "TypeError",
     "evalue": "'DataLoader' object is not subscriptable",
     "output_type": "error",
     "traceback": [
      "\u001b[0;31m---------------------------------------------------------------------------\u001b[0m",
      "\u001b[0;31mTypeError\u001b[0m                                 Traceback (most recent call last)",
      "Cell \u001b[0;32mIn[68], line 1\u001b[0m\n\u001b[0;32m----> 1\u001b[0m \u001b[43mDataLoader\u001b[49m\u001b[43m[\u001b[49m\u001b[43mfind_indices\u001b[49m\u001b[43m(\u001b[49m\u001b[43mdatetime\u001b[49m\u001b[38;5;241;43m.\u001b[39;49m\u001b[43mdatetime\u001b[49m\u001b[43m(\u001b[49m\u001b[38;5;241;43m2012\u001b[39;49m\u001b[43m,\u001b[49m\u001b[43m \u001b[49m\u001b[38;5;241;43m4\u001b[39;49m\u001b[43m,\u001b[49m\u001b[43m \u001b[49m\u001b[38;5;241;43m1\u001b[39;49m\u001b[43m,\u001b[49m\u001b[43m \u001b[49m\u001b[38;5;241;43m0\u001b[39;49m\u001b[43m,\u001b[49m\u001b[43m \u001b[49m\u001b[38;5;241;43m35\u001b[39;49m\u001b[43m)\u001b[49m\u001b[43m)\u001b[49m\u001b[43m]\u001b[49m\n",
      "\u001b[0;31mTypeError\u001b[0m: 'DataLoader' object is not subscriptable"
     ]
    }
   ],
   "source": [
    "DataLoader[find_indices(datetime.datetime(2012, 4, 1, 0, 35))]"
   ]
  },
  {
   "cell_type": "code",
   "execution_count": 72,
   "metadata": {},
   "outputs": [
    {
     "data": {
      "text/plain": [
       "tensor([[[0.7030, 0.0243, 6.0000],\n",
       "         [0.7372, 0.0243, 6.0000],\n",
       "         [0.7429, 0.0243, 6.0000],\n",
       "         ...,\n",
       "         [0.6346, 0.0243, 6.0000],\n",
       "         [0.7429, 0.0243, 6.0000],\n",
       "         [0.4352, 0.0243, 6.0000]],\n",
       "\n",
       "        [[0.7230, 0.0278, 6.0000],\n",
       "         [0.6012, 0.0278, 6.0000],\n",
       "         [0.6460, 0.0278, 6.0000],\n",
       "         ...,\n",
       "         [0.6525, 0.0278, 6.0000],\n",
       "         [0.2741, 0.0278, 6.0000],\n",
       "         [0.4280, 0.0278, 6.0000]],\n",
       "\n",
       "        [[0.7600, 0.0312, 6.0000],\n",
       "         [0.6859, 0.0312, 6.0000],\n",
       "         [0.7258, 0.0312, 6.0000],\n",
       "         ...,\n",
       "         [0.6118, 0.0312, 6.0000],\n",
       "         [0.7201, 0.0312, 6.0000],\n",
       "         [0.4124, 0.0312, 6.0000]],\n",
       "\n",
       "        ...,\n",
       "\n",
       "        [[0.6175, 0.0556, 6.0000],\n",
       "         [0.6517, 0.0556, 6.0000],\n",
       "         [0.6745, 0.0556, 6.0000],\n",
       "         ...,\n",
       "         [0.5321, 0.0556, 6.0000],\n",
       "         [0.7828, 0.0556, 6.0000],\n",
       "         [0.4523, 0.0556, 6.0000]],\n",
       "\n",
       "        [[0.6460, 0.0590, 6.0000],\n",
       "         [0.6589, 0.0590, 6.0000],\n",
       "         [0.6845, 0.0590, 6.0000],\n",
       "         ...,\n",
       "         [0.5755, 0.0590, 6.0000],\n",
       "         [0.7486, 0.0590, 6.0000],\n",
       "         [0.4088, 0.0590, 6.0000]],\n",
       "\n",
       "        [[0.6396, 0.0625, 6.0000],\n",
       "         [0.5499, 0.0625, 6.0000],\n",
       "         [0.7422, 0.0625, 6.0000],\n",
       "         ...,\n",
       "         [0.6140, 0.0625, 6.0000],\n",
       "         [0.7999, 0.0625, 6.0000],\n",
       "         [0.3960, 0.0625, 6.0000]]])"
      ]
     },
     "execution_count": 72,
     "metadata": {},
     "output_type": "execute_result"
    }
   ],
   "source": [
    "data[0]"
   ]
  },
  {
   "cell_type": "code",
   "execution_count": null,
   "metadata": {},
   "outputs": [],
   "source": []
  }
 ],
 "metadata": {
  "kernelspec": {
   "display_name": "env",
   "language": "python",
   "name": "python3"
  },
  "language_info": {
   "codemirror_mode": {
    "name": "ipython",
    "version": 3
   },
   "file_extension": ".py",
   "mimetype": "text/x-python",
   "name": "python",
   "nbconvert_exporter": "python",
   "pygments_lexer": "ipython3",
   "version": "3.11.5"
  }
 },
 "nbformat": 4,
 "nbformat_minor": 2
}
